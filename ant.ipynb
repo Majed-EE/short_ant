{
 "cells": [
  {
   "cell_type": "code",
   "execution_count": 6,
   "id": "248c6e14-6cd7-476b-b92e-fb4492b111d2",
   "metadata": {},
   "outputs": [],
   "source": [
    "import mujoco as mj\n",
    "from mujoco.glfw import glfw\n",
    "import numpy as np\n",
    "import time as T\n",
    "import xml.etree.ElementTree as ET"
   ]
  },
  {
   "cell_type": "code",
   "execution_count": 9,
   "id": "0fdeb213-454a-4976-b8b8-d46fe59fe79a",
   "metadata": {},
   "outputs": [],
   "source": [
    "scene_no=1\n",
    "scene_xml=[\"gripper_ants_soft.xml\",\"gripper_ants_rigid.xml\"]\n",
    "\n",
    "xml_path = scene_xml[scene_no]"
   ]
  },
  {
   "cell_type": "code",
   "execution_count": 10,
   "id": "51f5198c-ce86-4ee0-86ce-2dd7b051a466",
   "metadata": {},
   "outputs": [],
   "source": [
    "model = mj.MjModel.from_xml_path(xml_path)  # MuJoCo model\n",
    "data = mj.MjData(model)         "
   ]
  },
  {
   "cell_type": "code",
   "execution_count": null,
   "id": "2eeb8010-ef04-40e6-9ad2-3681df01a3e5",
   "metadata": {},
   "outputs": [],
   "source": [
    "dif "
   ]
  },
  {
   "cell_type": "code",
   "execution_count": null,
   "id": "d3428768-3999-46e9-83a5-7b9cb1a7d183",
   "metadata": {},
   "outputs": [],
   "source": []
  },
  {
   "cell_type": "code",
   "execution_count": null,
   "id": "60d30c42-feb6-4230-b25a-3fd422e8d4ea",
   "metadata": {},
   "outputs": [],
   "source": []
  },
  {
   "cell_type": "code",
   "execution_count": null,
   "id": "6a960035-481d-42fb-a8de-517488c5c136",
   "metadata": {},
   "outputs": [],
   "source": []
  },
  {
   "cell_type": "code",
   "execution_count": null,
   "id": "3b08351e-d764-4e33-ab9d-251db5a6dade",
   "metadata": {},
   "outputs": [],
   "source": []
  },
  {
   "cell_type": "code",
   "execution_count": null,
   "id": "54676a6b-b40e-4045-988a-ee9556e3f8bd",
   "metadata": {},
   "outputs": [],
   "source": []
  },
  {
   "cell_type": "code",
   "execution_count": null,
   "id": "f9bf05be-e764-4ed3-bad3-0b864c0ce7ed",
   "metadata": {},
   "outputs": [],
   "source": []
  },
  {
   "cell_type": "code",
   "execution_count": null,
   "id": "f7ee51f2-1529-42b3-8273-b4343a8b5978",
   "metadata": {},
   "outputs": [],
   "source": []
  },
  {
   "cell_type": "code",
   "execution_count": null,
   "id": "53da1aa1-0b20-493e-a293-c7c4f380bd50",
   "metadata": {},
   "outputs": [],
   "source": []
  },
  {
   "cell_type": "code",
   "execution_count": null,
   "id": "419576f5-fa52-4f7a-b31c-39e43cc202c0",
   "metadata": {},
   "outputs": [],
   "source": []
  },
  {
   "cell_type": "code",
   "execution_count": null,
   "id": "4aaad876-18bd-4b7f-9368-75cf889ed404",
   "metadata": {},
   "outputs": [],
   "source": []
  },
  {
   "cell_type": "code",
   "execution_count": null,
   "id": "ccc96c5e-2d70-485f-9d33-0eb9910c80a3",
   "metadata": {},
   "outputs": [],
   "source": []
  },
  {
   "cell_type": "code",
   "execution_count": null,
   "id": "0bd05a47-90c1-4580-b28d-82980bcff21a",
   "metadata": {},
   "outputs": [],
   "source": []
  },
  {
   "cell_type": "code",
   "execution_count": null,
   "id": "3f88b6e3-2532-40ea-a351-1ade276cd5a6",
   "metadata": {},
   "outputs": [],
   "source": []
  },
  {
   "cell_type": "code",
   "execution_count": null,
   "id": "b138a1e8-35e1-4856-bf01-e8c4ba77dc8a",
   "metadata": {},
   "outputs": [],
   "source": []
  },
  {
   "cell_type": "code",
   "execution_count": null,
   "id": "f09ba0d6-111c-40d3-9014-c971aca9c833",
   "metadata": {},
   "outputs": [],
   "source": []
  },
  {
   "cell_type": "code",
   "execution_count": 11,
   "id": "3e085f7c-53ba-4342-b9f4-6462c2f54852",
   "metadata": {},
   "outputs": [
    {
     "name": "stdout",
     "output_type": "stream",
     "text": [
      "94\n"
     ]
    }
   ],
   "source": [
    "def getJointInfo(model):\n",
    "    num_joints = model.njnt\n",
    "    print(num_joints)\n",
    "    joint_info = []\n",
    "    joint_dict={}\n",
    "    index=0\n",
    "    for i in range(num_joints):\n",
    "        # joint_name = model.name_jntadr[i]\n",
    "        joint_dict[str(i)]={\n",
    "        \"joint_index\":index,\n",
    "        \"joint_body_id\" : model.jnt_bodyid[i],\n",
    "        \"joint_id\":i,\n",
    "        \"joint_type\": model.jnt_type[i],\n",
    "        \"joint_axis\" : model.jnt_axis[i]  }\n",
    "        # joint_info.append((joint_index, joint_body_id, joint_type,joint_axis))\n",
    "    return joint_dict\n",
    "joint_dict=getJointInfo(model)"
   ]
  },
  {
   "cell_type": "code",
   "execution_count": 12,
   "id": "17260dcb-4e18-4448-b8af-9751ba16e55a",
   "metadata": {},
   "outputs": [],
   "source": [
    "\n",
    "\n",
    "tree = ET.parse(xml_path)\n",
    "root = tree.getroot()\n",
    "body_dict = {}\n",
    "joint_dict={}\n",
    "body_id=0\n",
    "\n",
    "\n",
    "joint_flag=False\n",
    "for body in root.findall('.//body'):\n",
    "        body_name = body.get('name')\n",
    "        # if body_name is None:\n",
    "        #     continue\n",
    "        # body.findall('joint')\n",
    "        for joint in body.findall('joint'):\n",
    "            joint_flag=True\n",
    "            joint_name = joint.get('name')\n",
    "            # print(joint_name)\n",
    "            body_dict[body_id]={\"body_name\":body_name,\n",
    "                               \"body_id\":body_id,\n",
    "                                \"joint_name\": joint.get('name')\n",
    "            # \"joint_type\" : joint.get('type'),\n",
    "            # # joint_pos = joint.get('pos'),\n",
    "            # # joint_axis = joint.get('axis')\n",
    "            # \"joint_range\" : joint.get('range')\n",
    "            }\n",
    "        if not joint_flag: # if link is present\n",
    "            body_dict[body_id]={\"body_name\":body_name,\n",
    "                               \"body_id\":body_id}\n",
    "        joint_flag=False\n",
    "            \n",
    "        body_id+=1"
   ]
  },
  {
   "cell_type": "code",
   "execution_count": null,
   "id": "6ab0f0be-e4c8-4845-a72d-02bff8511f8e",
   "metadata": {},
   "outputs": [],
   "source": []
  }
 ],
 "metadata": {
  "kernelspec": {
   "display_name": "Python 3 (ipykernel)",
   "language": "python",
   "name": "python3"
  },
  "language_info": {
   "codemirror_mode": {
    "name": "ipython",
    "version": 3
   },
   "file_extension": ".py",
   "mimetype": "text/x-python",
   "name": "python",
   "nbconvert_exporter": "python",
   "pygments_lexer": "ipython3",
   "version": "3.9.19"
  }
 },
 "nbformat": 4,
 "nbformat_minor": 5
}
